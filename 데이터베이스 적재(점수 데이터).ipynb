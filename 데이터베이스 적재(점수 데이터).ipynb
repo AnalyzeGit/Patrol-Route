{
 "cells": [
  {
   "cell_type": "code",
   "execution_count": 1,
   "id": "740a0d6c",
   "metadata": {},
   "outputs": [],
   "source": [
    "# Handling\n",
    "import pandas as pd\n",
    "\n",
    "# Module\n",
    "from loadDatabase import *\n",
    "from preprocessingPoint import *\n",
    "\n",
    "# gis\n",
    "import geopandas as gpd"
   ]
  },
  {
   "cell_type": "markdown",
   "id": "7941cc03",
   "metadata": {},
   "source": [
    "<span style='background-color:rgba(0,0,255,0.3); color:white; padding: 5px; border-radius:5px;'> 프로세스 </span>\n",
    "\n",
    "* 데이터 로드\n",
    "* 격자 위치 - 좌표 변경(함수)\n",
    "* 데이터 정제\n",
    "* 데이터 적재"
   ]
  },
  {
   "cell_type": "markdown",
   "id": "2b2398cf",
   "metadata": {},
   "source": [
    "<span style='border:0.5px solid black; padding:5px; border-radius:5px;'> 데이터 로드 </span>"
   ]
  },
  {
   "cell_type": "code",
   "execution_count": 2,
   "id": "440ef97d",
   "metadata": {},
   "outputs": [],
   "source": [
    "def bring_in_data(file_path, data_type='standard'):\n",
    "    \"\"\"\n",
    "    데이터 파일을 로드하는 함수.\n",
    "    \n",
    "    파라미터:\n",
    "    - file_path (str): 파일의 경로.\n",
    "    - data_type (str): 로드할 데이터의 유형 ('standard' 또는 'geo').\n",
    "    \n",
    "    반환:\n",
    "    - 로드된 데이터프레임.\n",
    "    \"\"\"\n",
    "    if data_type == 'geo':\n",
    "        # 지리적 데이터 로드\n",
    "        return gpd.read_file(file_path)\n",
    "    else:\n",
    "        # 표준 데이터 로드\n",
    "        return pd.read_csv(file_path)  # CSV 파일을 예로 들었습니다. 필요에 따라 수정 가능합니다.\n",
    "\n",
    "# 사용 예시\n",
    "# standard_df = load_data('data/my_data.csv', 'standard')\n",
    "# geo_df = load_data('data/my_geo_data.shp', 'geo')    "
   ]
  },
  {
   "cell_type": "code",
   "execution_count": 3,
   "id": "7390979b",
   "metadata": {
    "collapsed": true
   },
   "outputs": [
    {
     "ename": "FileNotFoundError",
     "evalue": "[Errno 2] No such file or directory: 'C:\\\\Users\\\\pc021\\\\Desktop\\\\성장\\\\공모전\\\\QGIS\\\\CSV\\\\격자_안전센터\\\\거리 데이터(관악구).csv'",
     "output_type": "error",
     "traceback": [
      "\u001b[1;31m---------------------------------------------------------------------------\u001b[0m",
      "\u001b[1;31mFileNotFoundError\u001b[0m                         Traceback (most recent call last)",
      "Cell \u001b[1;32mIn[3], line 7\u001b[0m\n\u001b[0;32m      4\u001b[0m grid_point \u001b[38;5;241m=\u001b[39m gpd\u001b[38;5;241m.\u001b[39mread_file(\u001b[38;5;124mr\u001b[39m\u001b[38;5;124m\"\u001b[39m\u001b[38;5;124mC:\u001b[39m\u001b[38;5;124m\\\u001b[39m\u001b[38;5;124mUsers\u001b[39m\u001b[38;5;124m\\\u001b[39m\u001b[38;5;124mpc021\u001b[39m\u001b[38;5;124m\\\u001b[39m\u001b[38;5;124mDesktop\u001b[39m\u001b[38;5;124m\\\u001b[39m\u001b[38;5;124m성장\u001b[39m\u001b[38;5;124m\\\u001b[39m\u001b[38;5;124m공모전\u001b[39m\u001b[38;5;124m\\\u001b[39m\u001b[38;5;124mQGIS\u001b[39m\u001b[38;5;124m\\\u001b[39m\u001b[38;5;124mSHP\u001b[39m\u001b[38;5;124m\\\u001b[39m\u001b[38;5;124m격자 위치\u001b[39m\u001b[38;5;124m\\\u001b[39m\u001b[38;5;124m관악구\u001b[39m\u001b[38;5;124m\\\u001b[39m\u001b[38;5;124m보행자도로 포함\u001b[39m\u001b[38;5;124m\\\u001b[39m\u001b[38;5;124m관악구_그리드_보행자도로_5179_utf8.shp\u001b[39m\u001b[38;5;124m\"\u001b[39m)\n\u001b[0;32m      6\u001b[0m \u001b[38;5;66;03m# 2. 격자 - 안전센터 거리\u001b[39;00m\n\u001b[1;32m----> 7\u001b[0m safety_center \u001b[38;5;241m=\u001b[39m  \u001b[43mpd\u001b[49m\u001b[38;5;241;43m.\u001b[39;49m\u001b[43mread_csv\u001b[49m\u001b[43m(\u001b[49m\u001b[38;5;124;43mr\u001b[39;49m\u001b[38;5;124;43m\"\u001b[39;49m\u001b[38;5;124;43mC:\u001b[39;49m\u001b[38;5;124;43m\\\u001b[39;49m\u001b[38;5;124;43mUsers\u001b[39;49m\u001b[38;5;124;43m\\\u001b[39;49m\u001b[38;5;124;43mpc021\u001b[39;49m\u001b[38;5;124;43m\\\u001b[39;49m\u001b[38;5;124;43mDesktop\u001b[39;49m\u001b[38;5;124;43m\\\u001b[39;49m\u001b[38;5;124;43m성장\u001b[39;49m\u001b[38;5;124;43m\\\u001b[39;49m\u001b[38;5;124;43m공모전\u001b[39;49m\u001b[38;5;124;43m\\\u001b[39;49m\u001b[38;5;124;43mQGIS\u001b[39;49m\u001b[38;5;124;43m\\\u001b[39;49m\u001b[38;5;124;43mCSV\u001b[39;49m\u001b[38;5;124;43m\\\u001b[39;49m\u001b[38;5;124;43m격자_안전센터\u001b[39;49m\u001b[38;5;124;43m\\\u001b[39;49m\u001b[38;5;124;43m거리 데이터(관악구).csv\u001b[39;49m\u001b[38;5;124;43m\"\u001b[39;49m\u001b[43m)\u001b[49m\n\u001b[0;32m      9\u001b[0m \u001b[38;5;66;03m# 3. 격자 - 안전 비상벨 거리\u001b[39;00m\n\u001b[0;32m     10\u001b[0m safety_emergency_bell \u001b[38;5;241m=\u001b[39m pd\u001b[38;5;241m.\u001b[39mread_csv(\u001b[38;5;124mr\u001b[39m\u001b[38;5;124m\"\u001b[39m\u001b[38;5;124mC:\u001b[39m\u001b[38;5;124m\\\u001b[39m\u001b[38;5;124mUsers\u001b[39m\u001b[38;5;124m\\\u001b[39m\u001b[38;5;124mpc021\u001b[39m\u001b[38;5;124m\\\u001b[39m\u001b[38;5;124mDesktop\u001b[39m\u001b[38;5;124m\\\u001b[39m\u001b[38;5;124m성장\u001b[39m\u001b[38;5;124m\\\u001b[39m\u001b[38;5;124m공모전\u001b[39m\u001b[38;5;124m\\\u001b[39m\u001b[38;5;124mQGIS\u001b[39m\u001b[38;5;124m\\\u001b[39m\u001b[38;5;124mCSV\u001b[39m\u001b[38;5;124m\\\u001b[39m\u001b[38;5;124m격자_안전비상벨\u001b[39m\u001b[38;5;124m\\\u001b[39m\u001b[38;5;124m거리 데이터(관악구).csv\u001b[39m\u001b[38;5;124m\"\u001b[39m)\n",
      "File \u001b[1;32m~\\anaconda3\\lib\\site-packages\\pandas\\util\\_decorators.py:211\u001b[0m, in \u001b[0;36mdeprecate_kwarg.<locals>._deprecate_kwarg.<locals>.wrapper\u001b[1;34m(*args, **kwargs)\u001b[0m\n\u001b[0;32m    209\u001b[0m     \u001b[38;5;28;01melse\u001b[39;00m:\n\u001b[0;32m    210\u001b[0m         kwargs[new_arg_name] \u001b[38;5;241m=\u001b[39m new_arg_value\n\u001b[1;32m--> 211\u001b[0m \u001b[38;5;28;01mreturn\u001b[39;00m func(\u001b[38;5;241m*\u001b[39margs, \u001b[38;5;241m*\u001b[39m\u001b[38;5;241m*\u001b[39mkwargs)\n",
      "File \u001b[1;32m~\\anaconda3\\lib\\site-packages\\pandas\\util\\_decorators.py:331\u001b[0m, in \u001b[0;36mdeprecate_nonkeyword_arguments.<locals>.decorate.<locals>.wrapper\u001b[1;34m(*args, **kwargs)\u001b[0m\n\u001b[0;32m    325\u001b[0m \u001b[38;5;28;01mif\u001b[39;00m \u001b[38;5;28mlen\u001b[39m(args) \u001b[38;5;241m>\u001b[39m num_allow_args:\n\u001b[0;32m    326\u001b[0m     warnings\u001b[38;5;241m.\u001b[39mwarn(\n\u001b[0;32m    327\u001b[0m         msg\u001b[38;5;241m.\u001b[39mformat(arguments\u001b[38;5;241m=\u001b[39m_format_argument_list(allow_args)),\n\u001b[0;32m    328\u001b[0m         \u001b[38;5;167;01mFutureWarning\u001b[39;00m,\n\u001b[0;32m    329\u001b[0m         stacklevel\u001b[38;5;241m=\u001b[39mfind_stack_level(),\n\u001b[0;32m    330\u001b[0m     )\n\u001b[1;32m--> 331\u001b[0m \u001b[38;5;28;01mreturn\u001b[39;00m func(\u001b[38;5;241m*\u001b[39margs, \u001b[38;5;241m*\u001b[39m\u001b[38;5;241m*\u001b[39mkwargs)\n",
      "File \u001b[1;32m~\\anaconda3\\lib\\site-packages\\pandas\\io\\parsers\\readers.py:950\u001b[0m, in \u001b[0;36mread_csv\u001b[1;34m(filepath_or_buffer, sep, delimiter, header, names, index_col, usecols, squeeze, prefix, mangle_dupe_cols, dtype, engine, converters, true_values, false_values, skipinitialspace, skiprows, skipfooter, nrows, na_values, keep_default_na, na_filter, verbose, skip_blank_lines, parse_dates, infer_datetime_format, keep_date_col, date_parser, dayfirst, cache_dates, iterator, chunksize, compression, thousands, decimal, lineterminator, quotechar, quoting, doublequote, escapechar, comment, encoding, encoding_errors, dialect, error_bad_lines, warn_bad_lines, on_bad_lines, delim_whitespace, low_memory, memory_map, float_precision, storage_options)\u001b[0m\n\u001b[0;32m    935\u001b[0m kwds_defaults \u001b[38;5;241m=\u001b[39m _refine_defaults_read(\n\u001b[0;32m    936\u001b[0m     dialect,\n\u001b[0;32m    937\u001b[0m     delimiter,\n\u001b[1;32m   (...)\u001b[0m\n\u001b[0;32m    946\u001b[0m     defaults\u001b[38;5;241m=\u001b[39m{\u001b[38;5;124m\"\u001b[39m\u001b[38;5;124mdelimiter\u001b[39m\u001b[38;5;124m\"\u001b[39m: \u001b[38;5;124m\"\u001b[39m\u001b[38;5;124m,\u001b[39m\u001b[38;5;124m\"\u001b[39m},\n\u001b[0;32m    947\u001b[0m )\n\u001b[0;32m    948\u001b[0m kwds\u001b[38;5;241m.\u001b[39mupdate(kwds_defaults)\n\u001b[1;32m--> 950\u001b[0m \u001b[38;5;28;01mreturn\u001b[39;00m \u001b[43m_read\u001b[49m\u001b[43m(\u001b[49m\u001b[43mfilepath_or_buffer\u001b[49m\u001b[43m,\u001b[49m\u001b[43m \u001b[49m\u001b[43mkwds\u001b[49m\u001b[43m)\u001b[49m\n",
      "File \u001b[1;32m~\\anaconda3\\lib\\site-packages\\pandas\\io\\parsers\\readers.py:605\u001b[0m, in \u001b[0;36m_read\u001b[1;34m(filepath_or_buffer, kwds)\u001b[0m\n\u001b[0;32m    602\u001b[0m _validate_names(kwds\u001b[38;5;241m.\u001b[39mget(\u001b[38;5;124m\"\u001b[39m\u001b[38;5;124mnames\u001b[39m\u001b[38;5;124m\"\u001b[39m, \u001b[38;5;28;01mNone\u001b[39;00m))\n\u001b[0;32m    604\u001b[0m \u001b[38;5;66;03m# Create the parser.\u001b[39;00m\n\u001b[1;32m--> 605\u001b[0m parser \u001b[38;5;241m=\u001b[39m TextFileReader(filepath_or_buffer, \u001b[38;5;241m*\u001b[39m\u001b[38;5;241m*\u001b[39mkwds)\n\u001b[0;32m    607\u001b[0m \u001b[38;5;28;01mif\u001b[39;00m chunksize \u001b[38;5;129;01mor\u001b[39;00m iterator:\n\u001b[0;32m    608\u001b[0m     \u001b[38;5;28;01mreturn\u001b[39;00m parser\n",
      "File \u001b[1;32m~\\anaconda3\\lib\\site-packages\\pandas\\io\\parsers\\readers.py:1442\u001b[0m, in \u001b[0;36mTextFileReader.__init__\u001b[1;34m(self, f, engine, **kwds)\u001b[0m\n\u001b[0;32m   1439\u001b[0m     \u001b[38;5;28mself\u001b[39m\u001b[38;5;241m.\u001b[39moptions[\u001b[38;5;124m\"\u001b[39m\u001b[38;5;124mhas_index_names\u001b[39m\u001b[38;5;124m\"\u001b[39m] \u001b[38;5;241m=\u001b[39m kwds[\u001b[38;5;124m\"\u001b[39m\u001b[38;5;124mhas_index_names\u001b[39m\u001b[38;5;124m\"\u001b[39m]\n\u001b[0;32m   1441\u001b[0m \u001b[38;5;28mself\u001b[39m\u001b[38;5;241m.\u001b[39mhandles: IOHandles \u001b[38;5;241m|\u001b[39m \u001b[38;5;28;01mNone\u001b[39;00m \u001b[38;5;241m=\u001b[39m \u001b[38;5;28;01mNone\u001b[39;00m\n\u001b[1;32m-> 1442\u001b[0m \u001b[38;5;28mself\u001b[39m\u001b[38;5;241m.\u001b[39m_engine \u001b[38;5;241m=\u001b[39m \u001b[38;5;28;43mself\u001b[39;49m\u001b[38;5;241;43m.\u001b[39;49m\u001b[43m_make_engine\u001b[49m\u001b[43m(\u001b[49m\u001b[43mf\u001b[49m\u001b[43m,\u001b[49m\u001b[43m \u001b[49m\u001b[38;5;28;43mself\u001b[39;49m\u001b[38;5;241;43m.\u001b[39;49m\u001b[43mengine\u001b[49m\u001b[43m)\u001b[49m\n",
      "File \u001b[1;32m~\\anaconda3\\lib\\site-packages\\pandas\\io\\parsers\\readers.py:1735\u001b[0m, in \u001b[0;36mTextFileReader._make_engine\u001b[1;34m(self, f, engine)\u001b[0m\n\u001b[0;32m   1733\u001b[0m     \u001b[38;5;28;01mif\u001b[39;00m \u001b[38;5;124m\"\u001b[39m\u001b[38;5;124mb\u001b[39m\u001b[38;5;124m\"\u001b[39m \u001b[38;5;129;01mnot\u001b[39;00m \u001b[38;5;129;01min\u001b[39;00m mode:\n\u001b[0;32m   1734\u001b[0m         mode \u001b[38;5;241m+\u001b[39m\u001b[38;5;241m=\u001b[39m \u001b[38;5;124m\"\u001b[39m\u001b[38;5;124mb\u001b[39m\u001b[38;5;124m\"\u001b[39m\n\u001b[1;32m-> 1735\u001b[0m \u001b[38;5;28mself\u001b[39m\u001b[38;5;241m.\u001b[39mhandles \u001b[38;5;241m=\u001b[39m \u001b[43mget_handle\u001b[49m\u001b[43m(\u001b[49m\n\u001b[0;32m   1736\u001b[0m \u001b[43m    \u001b[49m\u001b[43mf\u001b[49m\u001b[43m,\u001b[49m\n\u001b[0;32m   1737\u001b[0m \u001b[43m    \u001b[49m\u001b[43mmode\u001b[49m\u001b[43m,\u001b[49m\n\u001b[0;32m   1738\u001b[0m \u001b[43m    \u001b[49m\u001b[43mencoding\u001b[49m\u001b[38;5;241;43m=\u001b[39;49m\u001b[38;5;28;43mself\u001b[39;49m\u001b[38;5;241;43m.\u001b[39;49m\u001b[43moptions\u001b[49m\u001b[38;5;241;43m.\u001b[39;49m\u001b[43mget\u001b[49m\u001b[43m(\u001b[49m\u001b[38;5;124;43m\"\u001b[39;49m\u001b[38;5;124;43mencoding\u001b[39;49m\u001b[38;5;124;43m\"\u001b[39;49m\u001b[43m,\u001b[49m\u001b[43m \u001b[49m\u001b[38;5;28;43;01mNone\u001b[39;49;00m\u001b[43m)\u001b[49m\u001b[43m,\u001b[49m\n\u001b[0;32m   1739\u001b[0m \u001b[43m    \u001b[49m\u001b[43mcompression\u001b[49m\u001b[38;5;241;43m=\u001b[39;49m\u001b[38;5;28;43mself\u001b[39;49m\u001b[38;5;241;43m.\u001b[39;49m\u001b[43moptions\u001b[49m\u001b[38;5;241;43m.\u001b[39;49m\u001b[43mget\u001b[49m\u001b[43m(\u001b[49m\u001b[38;5;124;43m\"\u001b[39;49m\u001b[38;5;124;43mcompression\u001b[39;49m\u001b[38;5;124;43m\"\u001b[39;49m\u001b[43m,\u001b[49m\u001b[43m \u001b[49m\u001b[38;5;28;43;01mNone\u001b[39;49;00m\u001b[43m)\u001b[49m\u001b[43m,\u001b[49m\n\u001b[0;32m   1740\u001b[0m \u001b[43m    \u001b[49m\u001b[43mmemory_map\u001b[49m\u001b[38;5;241;43m=\u001b[39;49m\u001b[38;5;28;43mself\u001b[39;49m\u001b[38;5;241;43m.\u001b[39;49m\u001b[43moptions\u001b[49m\u001b[38;5;241;43m.\u001b[39;49m\u001b[43mget\u001b[49m\u001b[43m(\u001b[49m\u001b[38;5;124;43m\"\u001b[39;49m\u001b[38;5;124;43mmemory_map\u001b[39;49m\u001b[38;5;124;43m\"\u001b[39;49m\u001b[43m,\u001b[49m\u001b[43m \u001b[49m\u001b[38;5;28;43;01mFalse\u001b[39;49;00m\u001b[43m)\u001b[49m\u001b[43m,\u001b[49m\n\u001b[0;32m   1741\u001b[0m \u001b[43m    \u001b[49m\u001b[43mis_text\u001b[49m\u001b[38;5;241;43m=\u001b[39;49m\u001b[43mis_text\u001b[49m\u001b[43m,\u001b[49m\n\u001b[0;32m   1742\u001b[0m \u001b[43m    \u001b[49m\u001b[43merrors\u001b[49m\u001b[38;5;241;43m=\u001b[39;49m\u001b[38;5;28;43mself\u001b[39;49m\u001b[38;5;241;43m.\u001b[39;49m\u001b[43moptions\u001b[49m\u001b[38;5;241;43m.\u001b[39;49m\u001b[43mget\u001b[49m\u001b[43m(\u001b[49m\u001b[38;5;124;43m\"\u001b[39;49m\u001b[38;5;124;43mencoding_errors\u001b[39;49m\u001b[38;5;124;43m\"\u001b[39;49m\u001b[43m,\u001b[49m\u001b[43m \u001b[49m\u001b[38;5;124;43m\"\u001b[39;49m\u001b[38;5;124;43mstrict\u001b[39;49m\u001b[38;5;124;43m\"\u001b[39;49m\u001b[43m)\u001b[49m\u001b[43m,\u001b[49m\n\u001b[0;32m   1743\u001b[0m \u001b[43m    \u001b[49m\u001b[43mstorage_options\u001b[49m\u001b[38;5;241;43m=\u001b[39;49m\u001b[38;5;28;43mself\u001b[39;49m\u001b[38;5;241;43m.\u001b[39;49m\u001b[43moptions\u001b[49m\u001b[38;5;241;43m.\u001b[39;49m\u001b[43mget\u001b[49m\u001b[43m(\u001b[49m\u001b[38;5;124;43m\"\u001b[39;49m\u001b[38;5;124;43mstorage_options\u001b[39;49m\u001b[38;5;124;43m\"\u001b[39;49m\u001b[43m,\u001b[49m\u001b[43m \u001b[49m\u001b[38;5;28;43;01mNone\u001b[39;49;00m\u001b[43m)\u001b[49m\u001b[43m,\u001b[49m\n\u001b[0;32m   1744\u001b[0m \u001b[43m\u001b[49m\u001b[43m)\u001b[49m\n\u001b[0;32m   1745\u001b[0m \u001b[38;5;28;01massert\u001b[39;00m \u001b[38;5;28mself\u001b[39m\u001b[38;5;241m.\u001b[39mhandles \u001b[38;5;129;01mis\u001b[39;00m \u001b[38;5;129;01mnot\u001b[39;00m \u001b[38;5;28;01mNone\u001b[39;00m\n\u001b[0;32m   1746\u001b[0m f \u001b[38;5;241m=\u001b[39m \u001b[38;5;28mself\u001b[39m\u001b[38;5;241m.\u001b[39mhandles\u001b[38;5;241m.\u001b[39mhandle\n",
      "File \u001b[1;32m~\\anaconda3\\lib\\site-packages\\pandas\\io\\common.py:856\u001b[0m, in \u001b[0;36mget_handle\u001b[1;34m(path_or_buf, mode, encoding, compression, memory_map, is_text, errors, storage_options)\u001b[0m\n\u001b[0;32m    851\u001b[0m \u001b[38;5;28;01melif\u001b[39;00m \u001b[38;5;28misinstance\u001b[39m(handle, \u001b[38;5;28mstr\u001b[39m):\n\u001b[0;32m    852\u001b[0m     \u001b[38;5;66;03m# Check whether the filename is to be opened in binary mode.\u001b[39;00m\n\u001b[0;32m    853\u001b[0m     \u001b[38;5;66;03m# Binary mode does not support 'encoding' and 'newline'.\u001b[39;00m\n\u001b[0;32m    854\u001b[0m     \u001b[38;5;28;01mif\u001b[39;00m ioargs\u001b[38;5;241m.\u001b[39mencoding \u001b[38;5;129;01mand\u001b[39;00m \u001b[38;5;124m\"\u001b[39m\u001b[38;5;124mb\u001b[39m\u001b[38;5;124m\"\u001b[39m \u001b[38;5;129;01mnot\u001b[39;00m \u001b[38;5;129;01min\u001b[39;00m ioargs\u001b[38;5;241m.\u001b[39mmode:\n\u001b[0;32m    855\u001b[0m         \u001b[38;5;66;03m# Encoding\u001b[39;00m\n\u001b[1;32m--> 856\u001b[0m         handle \u001b[38;5;241m=\u001b[39m \u001b[38;5;28;43mopen\u001b[39;49m\u001b[43m(\u001b[49m\n\u001b[0;32m    857\u001b[0m \u001b[43m            \u001b[49m\u001b[43mhandle\u001b[49m\u001b[43m,\u001b[49m\n\u001b[0;32m    858\u001b[0m \u001b[43m            \u001b[49m\u001b[43mioargs\u001b[49m\u001b[38;5;241;43m.\u001b[39;49m\u001b[43mmode\u001b[49m\u001b[43m,\u001b[49m\n\u001b[0;32m    859\u001b[0m \u001b[43m            \u001b[49m\u001b[43mencoding\u001b[49m\u001b[38;5;241;43m=\u001b[39;49m\u001b[43mioargs\u001b[49m\u001b[38;5;241;43m.\u001b[39;49m\u001b[43mencoding\u001b[49m\u001b[43m,\u001b[49m\n\u001b[0;32m    860\u001b[0m \u001b[43m            \u001b[49m\u001b[43merrors\u001b[49m\u001b[38;5;241;43m=\u001b[39;49m\u001b[43merrors\u001b[49m\u001b[43m,\u001b[49m\n\u001b[0;32m    861\u001b[0m \u001b[43m            \u001b[49m\u001b[43mnewline\u001b[49m\u001b[38;5;241;43m=\u001b[39;49m\u001b[38;5;124;43m\"\u001b[39;49m\u001b[38;5;124;43m\"\u001b[39;49m\u001b[43m,\u001b[49m\n\u001b[0;32m    862\u001b[0m \u001b[43m        \u001b[49m\u001b[43m)\u001b[49m\n\u001b[0;32m    863\u001b[0m     \u001b[38;5;28;01melse\u001b[39;00m:\n\u001b[0;32m    864\u001b[0m         \u001b[38;5;66;03m# Binary mode\u001b[39;00m\n\u001b[0;32m    865\u001b[0m         handle \u001b[38;5;241m=\u001b[39m \u001b[38;5;28mopen\u001b[39m(handle, ioargs\u001b[38;5;241m.\u001b[39mmode)\n",
      "\u001b[1;31mFileNotFoundError\u001b[0m: [Errno 2] No such file or directory: 'C:\\\\Users\\\\pc021\\\\Desktop\\\\성장\\\\공모전\\\\QGIS\\\\CSV\\\\격자_안전센터\\\\거리 데이터(관악구).csv'"
     ]
    }
   ],
   "source": [
    "# Action: 데이터 로드(관악구)\n",
    "\n",
    "# 1. 격자 위치\n",
    "grid_point = gpd.read_file(r\"C:\\Users\\pc021\\Desktop\\성장\\공모전\\QGIS\\SHP\\격자 위치\\관악구\\보행자도로 포함\\관악구_그리드_보행자도로_5179_utf8.shp\")\n",
    "\n",
    "# 2. 격자 - 안전센터 거리\n",
    "safety_center =  pd.read_csv(r\"C:\\Users\\pc021\\Desktop\\성장\\공모전\\QGIS\\CSV\\격자_안전센터\\거리 데이터(관악구).csv\")\n",
    "\n",
    "# 3. 격자 - 안전 비상벨 거리\n",
    "safety_emergency_bell = pd.read_csv(r\"C:\\Users\\pc021\\Desktop\\성장\\공모전\\QGIS\\CSV\\격자_안전비상벨\\거리 데이터(관악구).csv\")\n",
    "\n",
    "# 4. 격자 - 무더위 쉼터 거리\n",
    "heat_shelter = pd.read_csv(r\"C:\\Users\\pc021\\Desktop\\성장\\공모전\\QGIS\\CSV\\격자_무더위쉼터\\격자(관악구)_무더위 쉼터\\GRID(관악구)-SHELTER.csv\")\n",
    "\n",
    "# 격자 - 경사도\n",
    "grid_gradient = pd.read_csv(r\"C:\\Users\\pc021\\Desktop\\성장\\공모전\\QGIS\\CSV\\경사도\\관악구\\경사도.csv\")\n",
    "\n",
    "# 격자 - 안심귀갓물 안전시설물\n",
    "grid_safety_facilities = pd.read_csv(r\"C:\\Users\\pc021\\Desktop\\성장\\공모전\\QGIS\\CSV\\격자_안심귀갓길 안전시설물\\격자_안심귀갓길 안전시설물_5179_utf8.csv\")\n",
    "\n",
    "# 격자 - 안심이 CCTV\n",
    "grid_safety_cctv = pd.read_csv(r\"C:\\Users\\pc021\\Desktop\\성장\\공모전\\QGIS\\CSV\\격자_안심이 CCTV\\격자_안심이 CCTV_5179_utf8.csv\")"
   ]
  },
  {
   "cell_type": "code",
   "execution_count": null,
   "id": "c8c11160",
   "metadata": {},
   "outputs": [],
   "source": [
    "# Action: 데이터 로드(동작구)\n",
    "\n",
    "# 1. 격자 위치\n",
    "grid_point = gpd.read_file(r\"C:\\Users\\pc021\\Desktop\\성장\\공모전\\QGIS\\SHP\\격자 위치\\동작구\\동작구_그리드위치_5179_UTF8.shp\")\n",
    "\n",
    "# 2. 격자 - 안전센터 거리\n",
    "safety_center =  pd.read_csv(r\"C:\\Users\\pc021\\Desktop\\성장\\공모전\\QGIS\\CSV\\격자_안전센터\\동작구\\동작구_안전센터_거리_5179_UTF8.csv\")\n",
    "\n",
    "# 3. 격자 - 안전 비상벨 거리\n",
    "safety_emergency_bell = pd.read_csv(r\"C:\\Users\\pc021\\Desktop\\성장\\공모전\\QGIS\\CSV\\격자_안전비상벨\\동작구\\동작구_안전비상벨_거리_5179_UTF8.csv\")\n",
    "\n",
    "# 4. 격자 - 무더위 쉼터 거리\n",
    "heat_shelter = pd.read_csv(r\"C:\\Users\\pc021\\Desktop\\성장\\공모전\\QGIS\\CSV\\격자_무더위쉼터\\동작구\\동작구_무더위쉼터_버퍼_5179_UTF8.csv\")\n",
    "\n",
    "# 격자 - 경사도\n",
    "#grid_gradient = pd.read_csv(r\"C:\\Users\\pc021\\Desktop\\성장\\공모전\\QGIS\\CSV\\경사도\\관악구\\경사도.csv\")\n",
    "\n",
    "# 격자 - 안심귀갓물 안전시설물\n",
    "grid_safety_facilities = pd.read_csv(r\"C:\\Users\\pc021\\Desktop\\성장\\공모전\\QGIS\\CSV\\격자_안심귀갓길 안전시설물\\동작구\\동작구_안전시설물_버퍼_5179_UTF8.csv\")\n",
    "\n",
    "# 격자 - 안심이 CCTV\n",
    "grid_safety_cctv = pd.read_csv(r\"C:\\Users\\pc021\\Desktop\\성장\\공모전\\QGIS\\CSV\\격자_안심이 CCTV\\동작구\\동작구_CCTV_개수포함_5179_UTF8.csv\",encoding='utf-8')"
   ]
  },
  {
   "cell_type": "code",
   "execution_count": 33,
   "id": "fa93f601",
   "metadata": {},
   "outputs": [],
   "source": [
    "# Action: 데이터 로드(서울시)\n",
    "\n",
    "# 1. 격자 위치\n",
    "#grid_point = gpd.read_file(r\"C:\\Users\\pc021\\Desktop\\성장\\공모전\\QGIS\\SHP\\격자 위치\\서울 시\\서울시_보행자도로(시군구 포함)_격자_5179_UTF8.shp\")\n",
    "\n",
    "# 2. 격자 - 안전센터 거리\n",
    "#safety_center =  pd.read_csv(r\"C:\\Users\\pc021\\Desktop\\성장\\공모전\\QGIS\\CSV\\격자_안전센터\\서울시\\서울시_격자_안전센터_5179_UTF8b.csv\")\n",
    "\n",
    "# 3. 격자 - 안전 비상벨 거리\n",
    "#safety_emergency_bell = pd.read_csv(r\"C:\\Users\\pc021\\Desktop\\성장\\공모전\\QGIS\\CSV\\격자_안전비상벨\\서울시\\서울시_격자_안전비상벨_5179_UTF8.csv\")\n",
    "\n",
    "# 4. 격자 - 무더위 쉼터 거리\n",
    "#heat_shelter = pd.read_csv(r\"C:\\Users\\pc021\\Desktop\\성장\\공모전\\QGIS\\CSV\\격자_무더위쉼터\\서울시\\서울시_격자_무더위 쉼터_5179_UTF8.csv\")\n",
    "\n",
    "# 격자 - 경사도\n",
    "#grid_gradient = pd.read_csv(r\"C:\\Users\\pc021\\Desktop\\성장\\공모전\\QGIS\\CSV\\경사도\\관악구\\경사도.csv\")\n",
    "\n",
    "# 격자 - 안심귀갓물 안전시설물 \n",
    "#grid_safety_facilities = pd.read_csv(r\"C:\\Users\\pc021\\Desktop\\성장\\공모전\\QGIS\\CSV\\격자_안심귀갓길 안전시설물\\서울시\\격자_안전시서물_5179_UTF8.csv\")\n",
    "\n",
    "# 격자 - 안심이 CCTV\n",
    "grid_safety_cctv = pd.read_csv(r\"C:\\Users\\pc021\\Desktop\\성장\\공모전\\QGIS\\CSV\\격자_안심이 CCTV\\서울시\\서울 시_격자_CCTV개수_5179_UTF8.csv\")"
   ]
  },
  {
   "cell_type": "code",
   "execution_count": 47,
   "id": "9e04a23d",
   "metadata": {},
   "outputs": [],
   "source": [
    "# Action: 데이터 로드(서울시 200 * 200)\n",
    "\n",
    "# 1. 격자 위치\n",
    "grid_point = gpd.read_file(r\"C:\\Users\\pc021\\Desktop\\성장\\공모전\\QGIS\\SHP\\격자 위치\\서울 시\\200_200\\서울시_격자(시군구)_5179_UTF8.shp\")\n",
    "\n",
    "# 2. 격자 - 안전센터 거리\n",
    "safety_center =  pd.read_csv(r\"C:\\Users\\pc021\\Desktop\\성장\\공모전\\QGIS\\CSV\\격자_안전센터\\서울시\\200_200\\서울 시_격자_안전센터_5179_UTF8.csv\")\n",
    "\n",
    "# 3. 격자 - 안전 비상벨 거리\n",
    "safety_emergency_bell = pd.read_csv(r\"C:\\Users\\pc021\\Desktop\\성장\\공모전\\QGIS\\CSV\\격자_안전비상벨\\서울시\\200_200\\서울시_격자_안전비상벨_5179_UTF8.csv\")\n",
    "\n",
    "# 4. 격자 - 무더위 쉼터 거리\n",
    "heat_shelter = pd.read_csv(r\"C:\\Users\\pc021\\Desktop\\성장\\공모전\\QGIS\\CSV\\격자_무더위쉼터\\서울시\\200_200\\서울 시_격자_무더위쉼터_5179_UTF8.csv\")\n",
    "\n",
    "# 5. 격자 - 안심귀갓물 안전시설물\n",
    "grid_safety_facilities = pd.read_csv(r\"C:\\Users\\pc021\\Desktop\\성장\\공모전\\QGIS\\CSV\\격자_안심귀갓길 안전시설물\\서울시\\200_200\\서울 시_격자_안전시설물_5179_UTF8.csv\")\n",
    "\n",
    "# 6. 격자 - 안심이 CCTV\n",
    "grid_safety_cctv = pd.read_csv(r\"C:\\Users\\pc021\\Desktop\\성장\\공모전\\QGIS\\CSV\\격자_안심이 CCTV\\서울시\\200_200\\서울 시_격자_CCTV개수_5179_UTF8.csv\")"
   ]
  },
  {
   "cell_type": "markdown",
   "id": "fd8653ea",
   "metadata": {},
   "source": [
    "<span style= 'border:0.5px solid black; padding:5px; border-radius:5px;'> 격자 위치 - 자표 변경 </span>"
   ]
  },
  {
   "cell_type": "code",
   "execution_count": 48,
   "id": "c2dc0ee1",
   "metadata": {},
   "outputs": [
    {
     "name": "stderr",
     "output_type": "stream",
     "text": [
      "C:\\Users\\pc021\\Desktop\\성장\\공모전\\preprocessingPoint.py:17: UserWarning: Geometry column does not contain geometry.\n",
      "  df[col] = df[col].astype('str')\n",
      "C:\\Users\\pc021\\Desktop\\성장\\공모전\\preprocessingPoint.py:19: UserWarning: Geometry column does not contain geometry.\n",
      "  df[col] = df[col].str.replace('POINT','')\n",
      "C:\\Users\\pc021\\Desktop\\성장\\공모전\\preprocessingPoint.py:20: FutureWarning: The default value of regex will change from True to False in a future version. In addition, single character regular expressions will *not* be treated as literal strings when regex=True.\n",
      "  df[col] = df[col].str.replace('(','')\n",
      "C:\\Users\\pc021\\Desktop\\성장\\공모전\\preprocessingPoint.py:20: UserWarning: Geometry column does not contain geometry.\n",
      "  df[col] = df[col].str.replace('(','')\n",
      "C:\\Users\\pc021\\Desktop\\성장\\공모전\\preprocessingPoint.py:21: FutureWarning: The default value of regex will change from True to False in a future version. In addition, single character regular expressions will *not* be treated as literal strings when regex=True.\n",
      "  df[col] = df[col].str.replace(')','')\n",
      "C:\\Users\\pc021\\Desktop\\성장\\공모전\\preprocessingPoint.py:21: UserWarning: Geometry column does not contain geometry.\n",
      "  df[col] = df[col].str.replace(')','')\n",
      "C:\\Users\\pc021\\Desktop\\성장\\공모전\\preprocessingPoint.py:22: UserWarning: Geometry column does not contain geometry.\n",
      "  df[col] = df[col].str.strip()\n"
     ]
    }
   ],
   "source": [
    "# Action: safety_center 좌표계 변환\n",
    "def change_data_coordinates(data):\n",
    "    \n",
    "    # 1 shp 좌표계 변환\n",
    "    data_shp = data.to_crs(epsg = 4326)\n",
    "\n",
    "    # 2. point 생성\n",
    "    point_shp = preprocess_point(data_shp,'geometry')\n",
    "    \n",
    "    return point_shp\n",
    "\n",
    "grid_point = change_data_coordinates(grid_point)"
   ]
  },
  {
   "cell_type": "markdown",
   "id": "7297cf7e",
   "metadata": {},
   "source": [
    "<span style= 'border:0.5px solid black; padding:5px; border-radius:5px;'> 데이터 정제 </span>"
   ]
  },
  {
   "cell_type": "code",
   "execution_count": 49,
   "id": "0914d464",
   "metadata": {},
   "outputs": [],
   "source": [
    "# Action: 격자 데이터 정제\n",
    "\n",
    "def preprocess_grid_point(data):\n",
    "\n",
    "    # 1. 변수 선택\n",
    "    grid_point_shp = data[['id','경도','위도','SIG_KOR_NM','EMD_NM']]\n",
    "\n",
    "    # 2, 컬럼 변경\n",
    "    grid_point_shp.columns = ['ID','LON','LAT','DISTRICT','DONG']\n",
    "    \n",
    "    # 3. 버전 입력\n",
    "    grid_point_shp['VERSION'] = 200\n",
    "    \n",
    "    return grid_point_shp"
   ]
  },
  {
   "cell_type": "code",
   "execution_count": 50,
   "id": "a62b4106",
   "metadata": {},
   "outputs": [],
   "source": [
    "def preprocess_distance(data):\n",
    "    data.columns = ['INPUT_ID','TARGET_ID','DISTANCE'] \n",
    "    \n",
    "    data['VERSION'] = 200\n",
    "    \n",
    "    return data"
   ]
  },
  {
   "cell_type": "code",
   "execution_count": 51,
   "id": "7165931b",
   "metadata": {},
   "outputs": [],
   "source": [
    "# Action: 데이터 정제\n",
    "\n",
    "def preprocess_buffer_shelter(data):\n",
    "\n",
    "    # 1. 변수 선택\n",
    "    data = data[['id','mrb_dist']]\n",
    "\n",
    "    # 2, 컬럼 변경\n",
    "    data.columns = ['ID','GRID_SHELTER_DISTANCE_SCORE']\n",
    "    \n",
    "    # 3. 결측치 대체\n",
    "    data['GRID_SHELTER_DISTANCE_SCORE'] = data['GRID_SHELTER_DISTANCE_SCORE'].fillna(300)\n",
    "    \n",
    "    data['VERSION'] = 200\n",
    "    \n",
    "    return data"
   ]
  },
  {
   "cell_type": "code",
   "execution_count": 52,
   "id": "8e524cc1",
   "metadata": {},
   "outputs": [],
   "source": [
    "def preprocess_gradient(data):\n",
    "    \n",
    "    # 1.  변수 선택 \n",
    "    data = data[['id','_sum']]\n",
    "    \n",
    "    # 2. 컬럼 변경\n",
    "    data.columns = ['ID','GRADIENT']\n",
    "    \n",
    "    data['VERSION'] = 200\n",
    "    \n",
    "    return data"
   ]
  },
  {
   "cell_type": "code",
   "execution_count": 53,
   "id": "a47b4641",
   "metadata": {},
   "outputs": [],
   "source": [
    "# Action: 데이터 정제\n",
    "\n",
    "def preprocess_buffer_facilities(data):\n",
    "\n",
    "    # 1. 변수 선택\n",
    "    data = data[['id','mrb_dist']]\n",
    "\n",
    "    # 2, 컬럼 변경\n",
    "    data.columns = ['ID','GRID_FACILITIES_DISTANCE_SCORE']\n",
    "    \n",
    "    # 3. 결측치 대체\n",
    "    data['GRID_FACILITIES_DISTANCE_SCORE'] = data['GRID_FACILITIES_DISTANCE_SCORE'].fillna(300)\n",
    "    \n",
    "    data['VERSION'] = 200\n",
    "    \n",
    "    return data"
   ]
  },
  {
   "cell_type": "code",
   "execution_count": 54,
   "id": "7bcdeea7",
   "metadata": {},
   "outputs": [],
   "source": [
    "# Action: 데이터 정제\n",
    "\n",
    "def preprocess_numpoint_cctv(data):\n",
    "\n",
    "    # 1. 변수 선택\n",
    "    data = data[['id','NUMPOINTS']]\n",
    "\n",
    "    # 2, 컬럼 변경\n",
    "    data.columns = ['ID','NUMBER_OF_CCTV']\n",
    "    \n",
    "    # 3. 시군구 할당\n",
    "    #data['LOCATION'] = col\n",
    "    \n",
    "    # 4. 결측치 대체\n",
    "    data['NUMBER_OF_CCTV'] = data['NUMBER_OF_CCTV'].fillna(300)\n",
    "    \n",
    "    data['VERSION'] = 200\n",
    "    \n",
    "    return data"
   ]
  },
  {
   "cell_type": "code",
   "execution_count": 55,
   "id": "45543b90",
   "metadata": {
    "scrolled": true
   },
   "outputs": [
    {
     "name": "stderr",
     "output_type": "stream",
     "text": [
      "C:\\Users\\pc021\\AppData\\Local\\Temp\\ipykernel_5024\\1811252092.py:12: SettingWithCopyWarning: \n",
      "A value is trying to be set on a copy of a slice from a DataFrame.\n",
      "Try using .loc[row_indexer,col_indexer] = value instead\n",
      "\n",
      "See the caveats in the documentation: https://pandas.pydata.org/pandas-docs/stable/user_guide/indexing.html#returning-a-view-versus-a-copy\n",
      "  grid_point_shp['VERSION'] = 200\n",
      "C:\\Users\\pc021\\AppData\\Local\\Temp\\ipykernel_5024\\919301169.py:12: SettingWithCopyWarning: \n",
      "A value is trying to be set on a copy of a slice from a DataFrame.\n",
      "Try using .loc[row_indexer,col_indexer] = value instead\n",
      "\n",
      "See the caveats in the documentation: https://pandas.pydata.org/pandas-docs/stable/user_guide/indexing.html#returning-a-view-versus-a-copy\n",
      "  data['GRID_SHELTER_DISTANCE_SCORE'] = data['GRID_SHELTER_DISTANCE_SCORE'].fillna(300)\n",
      "C:\\Users\\pc021\\AppData\\Local\\Temp\\ipykernel_5024\\919301169.py:14: SettingWithCopyWarning: \n",
      "A value is trying to be set on a copy of a slice from a DataFrame.\n",
      "Try using .loc[row_indexer,col_indexer] = value instead\n",
      "\n",
      "See the caveats in the documentation: https://pandas.pydata.org/pandas-docs/stable/user_guide/indexing.html#returning-a-view-versus-a-copy\n",
      "  data['VERSION'] = 200\n",
      "C:\\Users\\pc021\\AppData\\Local\\Temp\\ipykernel_5024\\76151570.py:12: SettingWithCopyWarning: \n",
      "A value is trying to be set on a copy of a slice from a DataFrame.\n",
      "Try using .loc[row_indexer,col_indexer] = value instead\n",
      "\n",
      "See the caveats in the documentation: https://pandas.pydata.org/pandas-docs/stable/user_guide/indexing.html#returning-a-view-versus-a-copy\n",
      "  data['GRID_FACILITIES_DISTANCE_SCORE'] = data['GRID_FACILITIES_DISTANCE_SCORE'].fillna(300)\n",
      "C:\\Users\\pc021\\AppData\\Local\\Temp\\ipykernel_5024\\76151570.py:14: SettingWithCopyWarning: \n",
      "A value is trying to be set on a copy of a slice from a DataFrame.\n",
      "Try using .loc[row_indexer,col_indexer] = value instead\n",
      "\n",
      "See the caveats in the documentation: https://pandas.pydata.org/pandas-docs/stable/user_guide/indexing.html#returning-a-view-versus-a-copy\n",
      "  data['VERSION'] = 200\n",
      "C:\\Users\\pc021\\AppData\\Local\\Temp\\ipykernel_5024\\1474228180.py:15: SettingWithCopyWarning: \n",
      "A value is trying to be set on a copy of a slice from a DataFrame.\n",
      "Try using .loc[row_indexer,col_indexer] = value instead\n",
      "\n",
      "See the caveats in the documentation: https://pandas.pydata.org/pandas-docs/stable/user_guide/indexing.html#returning-a-view-versus-a-copy\n",
      "  data['NUMBER_OF_CCTV'] = data['NUMBER_OF_CCTV'].fillna(300)\n",
      "C:\\Users\\pc021\\AppData\\Local\\Temp\\ipykernel_5024\\1474228180.py:17: SettingWithCopyWarning: \n",
      "A value is trying to be set on a copy of a slice from a DataFrame.\n",
      "Try using .loc[row_indexer,col_indexer] = value instead\n",
      "\n",
      "See the caveats in the documentation: https://pandas.pydata.org/pandas-docs/stable/user_guide/indexing.html#returning-a-view-versus-a-copy\n",
      "  data['VERSION'] = 200\n"
     ]
    }
   ],
   "source": [
    "# Action: 정제 함수 사용\n",
    "\n",
    "# 함수 사용\n",
    "grid_point = preprocess_grid_point(grid_point)\n",
    "safety_center = preprocess_distance(safety_center)\n",
    "safety_emergency_bell = preprocess_distance(safety_emergency_bell)\n",
    "heat_shelter = preprocess_buffer_shelter(heat_shelter)\n",
    "#grid_gradient = preprocess_gradient(grid_gradient,'관악구')\n",
    "grid_safety_facilities = preprocess_buffer_facilities(grid_safety_facilities)\n",
    "grid_safety_cctv = preprocess_numpoint_cctv(grid_safety_cctv)"
   ]
  },
  {
   "cell_type": "markdown",
   "id": "90a86075",
   "metadata": {},
   "source": [
    "<span style= 'border:0.5px solid black; padding:5px; border-radius:5px;'> 데이터 적재 </span>"
   ]
  },
  {
   "cell_type": "code",
   "execution_count": 57,
   "id": "c510ef1b",
   "metadata": {},
   "outputs": [
    {
     "name": "stdout",
     "output_type": "stream",
     "text": [
      "DataFrame has been successfully loaded into an_distance_safety_center table in myappDB database.\n",
      "DataFrame has been successfully loaded into an_distance_safety_emergency_bell table in myappDB database.\n",
      "DataFrame has been successfully loaded into an_distance_score_shelter table in myappDB database.\n",
      "DataFrame has been successfully loaded into an_grid_point table in myappDB database.\n",
      "DataFrame has been successfully loaded into an_distance_score_facilities table in myappDB database.\n",
      "DataFrame has been successfully loaded into an_numpoins_cctv table in myappDB database.\n"
     ]
    }
   ],
   "source": [
    "# Action: 데이터 적재\n",
    "\n",
    "load_database(safety_center,'an_distance_safety_center')\n",
    "load_database(safety_emergency_bell,'an_distance_safety_emergency_bell')\n",
    "load_database(heat_shelter,'an_distance_score_shelter')\n",
    "load_database(grid_point,'an_grid_point')\n",
    "#load_database(grid_gradient,'an_gird_gradiednt')\n",
    "load_database(grid_safety_facilities,'an_distance_score_facilities')\n",
    "load_database(grid_safety_cctv,'an_numpoins_cctv')"
   ]
  }
 ],
 "metadata": {
  "kernelspec": {
   "display_name": "Python 3 (ipykernel)",
   "language": "python",
   "name": "python3"
  },
  "language_info": {
   "codemirror_mode": {
    "name": "ipython",
    "version": 3
   },
   "file_extension": ".py",
   "mimetype": "text/x-python",
   "name": "python",
   "nbconvert_exporter": "python",
   "pygments_lexer": "ipython3",
   "version": "3.10.9"
  }
 },
 "nbformat": 4,
 "nbformat_minor": 5
}
